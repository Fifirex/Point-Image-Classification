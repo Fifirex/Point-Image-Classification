{
  "nbformat": 4,
  "nbformat_minor": 0,
  "metadata": {
    "colab": {
      "provenance": []
    },
    "kernelspec": {
      "name": "python3",
      "display_name": "Python 3"
    },
    "language_info": {
      "name": "python"
    },
    "accelerator": "GPU",
    "gpuClass": "standard"
  },
  "cells": [
    {
      "cell_type": "markdown",
      "source": [
        "# Image Binary Classification\n",
        "We are given a set of images that are to be classified into either `Type1` or `Type2` based on a set of training images given for each type."
      ],
      "metadata": {
        "id": "J__3udIcm-mJ"
      }
    },
    {
      "cell_type": "markdown",
      "source": [
        "## Studying the Databse\n",
        "We first load the dataset from the given link onto colab and look at a sample of training images to familiarise ourselves with the type of images we are dealing with."
      ],
      "metadata": {
        "id": "plOnwMt4r_Ts"
      }
    },
    {
      "cell_type": "code",
      "execution_count": 1,
      "metadata": {
        "colab": {
          "base_uri": "https://localhost:8080/"
        },
        "collapsed": true,
        "id": "oLF1J_f1jgSc",
        "outputId": "2a6e6b30-6319-4993-b978-e38e81858c49"
      },
      "outputs": [
        {
          "output_type": "stream",
          "name": "stdout",
          "text": [
            "--2022-12-15 09:54:09--  https://cloud.mpi-cbg.de/index.php/s/tMCkGvprNsPzeJ7/download\n",
            "Resolving cloud.mpi-cbg.de (cloud.mpi-cbg.de)... 141.5.10.73\n",
            "Connecting to cloud.mpi-cbg.de (cloud.mpi-cbg.de)|141.5.10.73|:443... connected.\n",
            "HTTP request sent, awaiting response... 200 OK\n",
            "Length: unspecified [application/zip]\n",
            "Saving to: ‘/tmp/dataset.zip’\n",
            "\n",
            "/tmp/dataset.zip        [<=>                 ]  21.64M  2.72MB/s    in 7.7s    \n",
            "\n",
            "2022-12-15 09:54:19 (2.81 MB/s) - ‘/tmp/dataset.zip’ saved [22686855]\n",
            "\n"
          ]
        }
      ],
      "source": [
        "# wget the zip file onto /tmp\n",
        "\n",
        "!wget --no-check-certificate \\\n",
        "    https://cloud.mpi-cbg.de/index.php/s/tMCkGvprNsPzeJ7/download \\\n",
        "    -O /tmp/dataset.zip "
      ]
    },
    {
      "cell_type": "code",
      "source": [
        "import os\n",
        "import zipfile\n",
        "import shutil\n",
        "\n",
        "# unzipping\n",
        "local_zip = '/tmp/dataset.zip'\n",
        "zip_ref = zipfile.ZipFile(local_zip, 'r')\n",
        "zip_ref.extractall('/tmp')\n",
        "zip_ref.close()\n",
        "\n",
        "# making necessary directories for train and test data\n",
        "os.mkdir('/tmp/Problemset/TrainSet')\n",
        "shutil.move('/tmp/Problemset/Type1', '/tmp/Problemset/TrainSet/Type1')\n",
        "shutil.move('/tmp/Problemset/Type2', '/tmp/Problemset/TrainSet/Type2')"
      ],
      "metadata": {
        "colab": {
          "base_uri": "https://localhost:8080/",
          "height": 35
        },
        "collapsed": true,
        "id": "CscfE9dUk4Pg",
        "outputId": "06b59b6e-3ec1-4cce-dd9b-3a76daad0bb6"
      },
      "execution_count": 2,
      "outputs": [
        {
          "output_type": "execute_result",
          "data": {
            "text/plain": [
              "'/tmp/Problemset/TrainSet/Type2'"
            ],
            "application/vnd.google.colaboratory.intrinsic+json": {
              "type": "string"
            }
          },
          "metadata": {},
          "execution_count": 2
        }
      ]
    },
    {
      "cell_type": "markdown",
      "source": [
        "We now create two directories `train_type1_dir` and `train_type2_dir` and load the images onto them. Test dataset is not handeled for now."
      ],
      "metadata": {
        "id": "LwKsljgwqo6P"
      }
    },
    {
      "cell_type": "code",
      "source": [
        "base_dir = '/tmp/Problemset'\n",
        "train_dir = os.path.join(base_dir, 'TrainSet')\n",
        "\n",
        "# Directory with our training type1 pictures\n",
        "train_type1_dir = os.path.join(train_dir, 'Type1')\n",
        "\n",
        "# Directory with our training type2 pictures\n",
        "train_type2_dir = os.path.join(train_dir, 'Type2')"
      ],
      "metadata": {
        "id": "TCA0NeOwlYjs"
      },
      "execution_count": 3,
      "outputs": []
    },
    {
      "cell_type": "markdown",
      "source": [
        "We then look at the number of images in the dataset and the naming of the images to get an idea of the structure. \n",
        "\n",
        "We find that there are 1,000 images of each type in the training dataset. Therefore, a total of 2,000 training images are present. We intend to create a 80:20 split for train:validation, giving us 1,600 images for training and 400 for validation."
      ],
      "metadata": {
        "id": "8tBIu26IrENm"
      }
    },
    {
      "cell_type": "code",
      "source": [
        "train_type1_fnames = os.listdir(train_type1_dir)\n",
        "# print(train_type1_fnames[:10])\n",
        "\n",
        "train_type2_fnames = os.listdir(train_type2_dir)\n",
        "train_type2_fnames.sort()\n",
        "# print(train_type2_fnames[:10])\n",
        "\n",
        "print('total training Type1 images:', len(os.listdir(train_type1_dir)))\n",
        "print('total training Type2 images:', len(os.listdir(train_type2_dir)))"
      ],
      "metadata": {
        "colab": {
          "base_uri": "https://localhost:8080/"
        },
        "id": "-A2Ns6C5mKSd",
        "outputId": "1dcc03a8-698e-49c8-ebd5-e4e742a3bb8f"
      },
      "execution_count": 4,
      "outputs": [
        {
          "output_type": "stream",
          "name": "stdout",
          "text": [
            "total training Type1 images: 1000\n",
            "total training Type2 images: 1000\n"
          ]
        }
      ]
    },
    {
      "cell_type": "markdown",
      "source": [
        "We now plot some images from the training dataset to have a look at the nature of the images. We divide the plot in 4:4 subplots and plot some images without their labels (`Type1` or `Type2`)."
      ],
      "metadata": {
        "id": "EXdFbV_xsOyU"
      }
    },
    {
      "cell_type": "code",
      "source": [
        "%matplotlib inline\n",
        "\n",
        "import matplotlib.pyplot as plt\n",
        "import matplotlib.image as mpimg\n",
        "\n",
        "# Parameters for our graph; we'll output images in a 4x4 configuration\n",
        "nrows = 4\n",
        "ncols = 4\n",
        "\n",
        "# Index for iterating over images\n",
        "pic_index = 0"
      ],
      "metadata": {
        "id": "G5VxiunKlxHw"
      },
      "execution_count": 5,
      "outputs": []
    },
    {
      "cell_type": "code",
      "source": [
        "fig = plt.gcf()\n",
        "fig.set_size_inches(ncols * 4, nrows * 4)\n",
        "\n",
        "pic_index += 8\n",
        "next_type1_pix = [os.path.join(train_type1_dir, fname) \n",
        "                for fname in train_type1_fnames[pic_index-8:pic_index]]\n",
        "next_type2_pix = [os.path.join(train_type2_dir, fname) \n",
        "                for fname in train_type2_fnames[pic_index-8:pic_index]]\n",
        "\n",
        "for i, img_path in enumerate(next_type1_pix+next_type2_pix):\n",
        "  # Set up subplot; subplot indices start at 1\n",
        "  sp = plt.subplot(nrows, ncols, i + 1)\n",
        "  sp.axis('Off') # Don't show axes (or gridlines)\n",
        "\n",
        "  img = mpimg.imread(img_path)\n",
        "  plt.imshow(img)\n",
        "\n",
        "plt.show()"
      ],
      "metadata": {
        "colab": {
          "base_uri": "https://localhost:8080/",
          "height": 901
        },
        "id": "yNE94WTxl-kd",
        "outputId": "c390540e-3324-4c81-c509-bb243ecee0ff"
      },
      "execution_count": 6,
      "outputs": [
        {
          "output_type": "display_data",
          "data": {
            "text/plain": [
              "<Figure size 1152x1152 with 16 Axes>"
            ],
            "image/png": "[encoded data removed]"
          },
          "metadata": {
            "needs_background": "light"
          }
        }
      ]
    },
    {
      "cell_type": "markdown",
      "source": [
        "As can be seen from the above plot, the images are nothing but circular plots with certain points inside the boundary. This is a particularly simpler dataset with less image statistics involved. \n",
        "\n",
        "Therefore, we will write a ConvNet from scratch (individual layers) and look at the accuracy we recieve on the validation set."
      ],
      "metadata": {
        "id": "iYFtJfZ3sklG"
      }
    },
    {
      "cell_type": "markdown",
      "source": [
        "## CNN from scratch\n",
        "We first import the necessary libraries and set the parameters for the given images (dimentions, number of train samples). We also set `batch_size` as 20 for the given set (relatively small number but something that is the divisor of both `nb_train_samples` and `nb_validation_samples`). "
      ],
      "metadata": {
        "id": "-kSM8taBLbvM"
      }
    },
    {
      "cell_type": "code",
      "source": [
        "import tensorflow as tf\n",
        "import numpy as np"
      ],
      "metadata": {
        "id": "PxXwzB35mrW6"
      },
      "execution_count": 7,
      "outputs": []
    },
    {
      "cell_type": "code",
      "source": [
        "batch_size = 20\n",
        "img_height = 400\n",
        "img_width = 400\n",
        "nb_train_samples = 1600\n",
        "nb_validation_samples = 400"
      ],
      "metadata": {
        "id": "YuWhCBmQn3qG"
      },
      "execution_count": 8,
      "outputs": []
    },
    {
      "cell_type": "markdown",
      "source": [
        "We now generate objects of type `tf.keras.Dataset` using `tf.keras.utils.image_dataset_from_directory` to import the images from the given directories.\n",
        "\n",
        "Two objects `train_ds` and `validation_ds` are created from the following arguments.\n",
        "\n",
        "---\n",
        "\n",
        "**Arguments used**\n",
        "\n",
        "***validation_split*** - used to specify the split for validation. As mentioned earlier, we are using the standard 80:20 split for traiing our model.\n",
        "\n",
        "***seed*** - used to shuffle the images while loading them to the dataset object."
      ],
      "metadata": {
        "id": "2vKe1_sOM_Ft"
      }
    },
    {
      "cell_type": "code",
      "source": [
        "train_ds = tf.keras.utils.image_dataset_from_directory(\n",
        "  train_dir,\n",
        "  validation_split=0.2,\n",
        "  subset=\"training\",\n",
        "  seed=123,\n",
        "  image_size=(img_height, img_width),\n",
        "  batch_size=batch_size)"
      ],
      "metadata": {
        "colab": {
          "base_uri": "https://localhost:8080/"
        },
        "id": "_iCnNSGuBVO-",
        "outputId": "e343ce7e-01fc-48cf-a487-ad11baf6db55"
      },
      "execution_count": 9,
      "outputs": [
        {
          "output_type": "stream",
          "name": "stdout",
          "text": [
            "Found 2000 files belonging to 2 classes.\n",
            "Using 1600 files for training.\n"
          ]
        }
      ]
    },
    {
      "cell_type": "code",
      "source": [
        "val_ds = tf.keras.utils.image_dataset_from_directory(\n",
        "  train_dir,\n",
        "  validation_split=0.2,\n",
        "  subset=\"validation\",\n",
        "  seed=123,\n",
        "  image_size=(img_height, img_width),\n",
        "  batch_size=batch_size)"
      ],
      "metadata": {
        "colab": {
          "base_uri": "https://localhost:8080/"
        },
        "id": "wWFhuPEFBrLP",
        "outputId": "24fdaa13-2e7b-46aa-b62e-fc9705a11626"
      },
      "execution_count": 10,
      "outputs": [
        {
          "output_type": "stream",
          "name": "stdout",
          "text": [
            "Found 2000 files belonging to 2 classes.\n",
            "Using 400 files for validation.\n"
          ]
        }
      ]
    },
    {
      "cell_type": "markdown",
      "source": [
        "We look at the classes imported to the dataset. As expected, the method returns `Type1` and `Type2`."
      ],
      "metadata": {
        "id": "XqCqCAdMOwQl"
      }
    },
    {
      "cell_type": "code",
      "source": [
        "class_names = train_ds.class_names\n",
        "print(class_names)"
      ],
      "metadata": {
        "colab": {
          "base_uri": "https://localhost:8080/"
        },
        "id": "7W6wf-lDBvSR",
        "outputId": "5e34ffde-6fb7-4c22-e51b-f6e0b380f812"
      },
      "execution_count": 11,
      "outputs": [
        {
          "output_type": "stream",
          "name": "stdout",
          "text": [
            "['Type1', 'Type2']\n"
          ]
        }
      ]
    },
    {
      "cell_type": "markdown",
      "source": [
        "We now plot some of the images from the datatset to illustrate how we iterate through the object. This will be significant will fitting and modeling the dataset."
      ],
      "metadata": {
        "id": "t1_ORwK-O3s3"
      }
    },
    {
      "cell_type": "code",
      "source": [
        "plt.figure(figsize=(10, 10))\n",
        "for images, labels in train_ds.take(1):\n",
        "  for i in range(9):\n",
        "    ax = plt.subplot(3, 3, i + 1)\n",
        "    plt.imshow(images[i].numpy().astype(\"uint8\"))\n",
        "    plt.title(class_names[labels[i]])\n",
        "    plt.axis(\"off\")"
      ],
      "metadata": {
        "colab": {
          "base_uri": "https://localhost:8080/",
          "height": 591
        },
        "id": "WPf9NcIoB0g4",
        "outputId": "f3295e36-50a7-4055-cf97-b9bdad09cae5"
      },
      "execution_count": 12,
      "outputs": [
        {
          "output_type": "display_data",
          "data": {
            "text/plain": [
              "<Figure size 720x720 with 9 Axes>"
            ],
            "image/png": "[encoded data removed]"
          },
          "metadata": {
            "needs_background": "light"
          }
        }
      ]
    },
    {
      "cell_type": "markdown",
      "source": [
        "We make sure to use buffered prefetching so we can yield data from disk without having I/O become blocking. These are two important methods you should use when loading data:\n",
        "\n",
        "* `Dataset.cache` keeps the images in memory after they're loaded off disk during the first epoch. This will ensure the dataset does not become a bottleneck while training your model. If your dataset is too large to fit into memory, you can also use this method to create a performant on-disk cache.\n",
        "* `Dataset.prefetch` overlaps data preprocessing and model execution while training.\n",
        "\n"
      ],
      "metadata": {
        "id": "d2TthVAAPGee"
      }
    },
    {
      "cell_type": "code",
      "source": [
        "AUTOTUNE = tf.data.AUTOTUNE\n",
        "\n",
        "train_ds = train_ds.cache().prefetch(buffer_size=AUTOTUNE)\n",
        "val_ds = val_ds.cache().prefetch(buffer_size=AUTOTUNE)"
      ],
      "metadata": {
        "id": "Tzy2RqxUJJR_"
      },
      "execution_count": 13,
      "outputs": []
    },
    {
      "cell_type": "markdown",
      "source": [
        "We now code the model that we will be using for training. \n",
        "\n",
        "We use `tf.keras.Sequential` to stack the layers used here:\n",
        "\n",
        "\n",
        "*   **Normalisation** is achieved using `tf.keras.layers.Rescaling(1./255)` which scales down the pixel values from the range [0, 255] to [0, 1]. This makes further computation straightforward as we use activation and modelling that deals with the range of [0, 1].\n",
        "*   **Convolution layer** is implemented using `tf.keras.layers.Conv2D()` where we will stack 3 {convolution + relu + maxpooling} modules. Our convolutions operate on 3x3 windows and our maxpooling layers operate on 2x2 windows which is achieved using `tf.keras.layers.MaxPooling2D()`. Filter size follows the trend of 32-64-128 to extract more and more features after every layer.\n",
        "*   On top of it we stick two fully-connected layers. The final layer gives the output of the model and therefore it has `num_classes` (2, in our case) units. This is done using `tf.keras.layers.Dense()`\n",
        "\n",
        "This is a configuration that is widely used and known to work well for image classification for sparse datasets (lesser image statistics to extract). We will stick to lower number of filters as we only have 1,600 training samples and we risk overfitting by increasing the number of filters."
      ],
      "metadata": {
        "id": "wcBkRn8APtL0"
      }
    },
    {
      "cell_type": "code",
      "source": [
        "num_classes = 2\n",
        "\n",
        "tf.keras.backend.clear_session()\n",
        "\n",
        "model = tf.keras.Sequential([\n",
        "  tf.keras.layers.Rescaling(1./255),\n",
        "  tf.keras.layers.Conv2D(32, 3, activation='relu'),\n",
        "  tf.keras.layers.MaxPooling2D(),\n",
        "  tf.keras.layers.Conv2D(64, 3, activation='relu'),\n",
        "  tf.keras.layers.MaxPooling2D(),\n",
        "  tf.keras.layers.Conv2D(128, 3, activation='relu'),\n",
        "  tf.keras.layers.MaxPooling2D(),\n",
        "  tf.keras.layers.Flatten(),\n",
        "  tf.keras.layers.Dense(128, activation='relu'),\n",
        "  tf.keras.layers.Dense(num_classes)\n",
        "])\n",
        "\n",
        "model.build((20, 400, 400, 3))\n",
        "model.summary()"
      ],
      "metadata": {
        "id": "tbnj2pFEJNqj",
        "colab": {
          "base_uri": "https://localhost:8080/"
        },
        "outputId": "d47cc060-ec70-4ea3-89b7-691cf477a99c"
      },
      "execution_count": 14,
      "outputs": [
        {
          "output_type": "stream",
          "name": "stdout",
          "text": [
            "Model: \"sequential\"\n",
            "_________________________________________________________________\n",
            " Layer (type)                Output Shape              Param #   \n",
            "=================================================================\n",
            " rescaling (Rescaling)       (20, 400, 400, 3)         0         \n",
            "                                                                 \n",
            " conv2d (Conv2D)             (20, 398, 398, 32)        896       \n",
            "                                                                 \n",
            " max_pooling2d (MaxPooling2D  (20, 199, 199, 32)       0         \n",
            " )                                                               \n",
            "                                                                 \n",
            " conv2d_1 (Conv2D)           (20, 197, 197, 64)        18496     \n",
            "                                                                 \n",
            " max_pooling2d_1 (MaxPooling  (20, 98, 98, 64)         0         \n",
            " 2D)                                                             \n",
            "                                                                 \n",
            " conv2d_2 (Conv2D)           (20, 96, 96, 128)         73856     \n",
            "                                                                 \n",
            " max_pooling2d_2 (MaxPooling  (20, 48, 48, 128)        0         \n",
            " 2D)                                                             \n",
            "                                                                 \n",
            " flatten (Flatten)           (20, 294912)              0         \n",
            "                                                                 \n",
            " dense (Dense)               (20, 128)                 37748864  \n",
            "                                                                 \n",
            " dense_1 (Dense)             (20, 2)                   258       \n",
            "                                                                 \n",
            "=================================================================\n",
            "Total params: 37,842,370\n",
            "Trainable params: 37,842,370\n",
            "Non-trainable params: 0\n",
            "_________________________________________________________________\n"
          ]
        }
      ]
    },
    {
      "cell_type": "markdown",
      "source": [
        "We finally compile our model using `model.compile()`. We are using the `adam` optimizer and `SparseCategoricalCrossentropy()` loss for the compilation. The `adam` optimizer is considered the best for a classification problem like the one we have as it adapts the learning rate eliminating an additional parameter to be tuned. The loss on the other hand is a categorial cross entropy loss which is the standard loss function used for classification."
      ],
      "metadata": {
        "id": "Z_xqJ88RSjiu"
      }
    },
    {
      "cell_type": "code",
      "source": [
        "model.compile(\n",
        "  optimizer='adam',\n",
        "  loss=tf.keras.losses.SparseCategoricalCrossentropy(from_logits=True),\n",
        "  metrics=['accuracy'])"
      ],
      "metadata": {
        "id": "2BMMKiz-JWZA"
      },
      "execution_count": 15,
      "outputs": []
    },
    {
      "cell_type": "markdown",
      "source": [
        "We finally fit the model using 10 `epochs` for the constructed model using the given train and validation datasets and save the generated weights for further evaluation."
      ],
      "metadata": {
        "id": "piOrzpKxToJL"
      }
    },
    {
      "cell_type": "code",
      "source": [
        "history = model.fit(\n",
        "  train_ds,\n",
        "  validation_data=val_ds,\n",
        "  steps_per_epoch=nb_train_samples // batch_size,\n",
        "  epochs=10,\n",
        "  validation_steps=nb_validation_samples // batch_size\n",
        ")"
      ],
      "metadata": {
        "colab": {
          "base_uri": "https://localhost:8080/"
        },
        "id": "5aGOFkBAJ7dc",
        "outputId": "fd31531c-1b89-486d-a764-8bfd79526fa1"
      },
      "execution_count": 16,
      "outputs": [
        {
          "output_type": "stream",
          "name": "stdout",
          "text": [
            "Epoch 1/10\n",
            "80/80 [==============================] - 20s 128ms/step - loss: 0.2320 - accuracy: 0.9056 - val_loss: 0.0260 - val_accuracy: 0.9900\n",
            "Epoch 2/10\n",
            "80/80 [==============================] - 9s 113ms/step - loss: 0.0146 - accuracy: 0.9944 - val_loss: 0.0837 - val_accuracy: 0.9875\n",
            "Epoch 3/10\n",
            "80/80 [==============================] - 9s 114ms/step - loss: 0.0295 - accuracy: 0.9919 - val_loss: 0.0521 - val_accuracy: 0.9900\n",
            "Epoch 4/10\n",
            "80/80 [==============================] - 9s 115ms/step - loss: 0.0031 - accuracy: 0.9994 - val_loss: 0.1377 - val_accuracy: 0.9775\n",
            "Epoch 5/10\n",
            "80/80 [==============================] - 9s 115ms/step - loss: 0.0150 - accuracy: 0.9969 - val_loss: 0.0848 - val_accuracy: 0.9850\n",
            "Epoch 6/10\n",
            "80/80 [==============================] - 9s 116ms/step - loss: 0.0043 - accuracy: 0.9987 - val_loss: 0.0945 - val_accuracy: 0.9900\n",
            "Epoch 7/10\n",
            "80/80 [==============================] - 9s 116ms/step - loss: 0.0055 - accuracy: 0.9981 - val_loss: 0.0574 - val_accuracy: 0.9800\n",
            "Epoch 8/10\n",
            "80/80 [==============================] - 9s 117ms/step - loss: 0.0087 - accuracy: 0.9956 - val_loss: 0.1300 - val_accuracy: 0.9875\n",
            "Epoch 9/10\n",
            "80/80 [==============================] - 9s 117ms/step - loss: 0.0012 - accuracy: 0.9994 - val_loss: 0.0538 - val_accuracy: 0.9925\n",
            "Epoch 10/10\n",
            "80/80 [==============================] - 9s 117ms/step - loss: 3.4949e-04 - accuracy: 1.0000 - val_loss: 0.0627 - val_accuracy: 0.9900\n"
          ]
        }
      ]
    },
    {
      "cell_type": "markdown",
      "source": [
        "As seen above, the accuracy becomes stagnant after epoch 8, hence going beyond 10 epochs will just result in overfitting. We now save the weights of the model trained at `/tmp/Problemset/SavedModels/cnn.h5` and plot the accuracy and loss for both train and validation to showcase the change of these outputs with each epoch."
      ],
      "metadata": {
        "id": "fFGauP-EddYG"
      }
    },
    {
      "cell_type": "code",
      "source": [
        "os.mkdir('/tmp/Problemset/SavedModels')\n",
        "model.save_weights('/tmp/Problemset/SavedModels/cnn.h5')"
      ],
      "metadata": {
        "id": "m23HYXNQlL8R"
      },
      "execution_count": null,
      "outputs": []
    },
    {
      "cell_type": "code",
      "source": [
        "acc = history.history['accuracy']\n",
        "val_acc = history.history['val_accuracy']\n",
        "loss = history.history['loss']\n",
        "val_loss = history.history['val_loss']\n",
        "\n",
        "epochs = range(len(acc))\n",
        "\n",
        "plt.plot(epochs, acc)\n",
        "plt.plot(epochs, val_acc)\n",
        "plt.title('Training and validation accuracy')\n",
        "\n",
        "plt.figure()\n",
        "\n",
        "plt.plot(epochs, loss)\n",
        "plt.plot(epochs, val_loss)\n",
        "plt.title('Training and validation loss')"
      ],
      "metadata": {
        "colab": {
          "base_uri": "https://localhost:8080/",
          "height": 563
        },
        "id": "NzVlAvlfbYSS",
        "outputId": "3036426b-37c3-4ad4-da0b-27154b4f7abb"
      },
      "execution_count": 17,
      "outputs": [
        {
          "output_type": "execute_result",
          "data": {
            "text/plain": [
              "Text(0.5, 1.0, 'Training and validation loss')"
            ]
          },
          "metadata": {},
          "execution_count": 17
        },
        {
          "output_type": "display_data",
          "data": {
            "text/plain": [
              "<Figure size 432x288 with 1 Axes>"
            ],
            "image/png": "[encoded data removed]"
          },
          "metadata": {
            "needs_background": "light"
          }
        },
        {
          "output_type": "display_data",
          "data": {
            "text/plain": [
              "<Figure size 432x288 with 1 Axes>"
            ],
            "image/png": "[encoded data removed]"
          },
          "metadata": {
            "needs_background": "light"
          }
        }
      ]
    },
    {
      "cell_type": "markdown",
      "source": [
        "**Conclusion**\n",
        "The model written from scratch proves to be really efficient for the given dataset as predicted by looking at the image statistics. We have recieved a test accuracy of `1.00` and validation accuracy of `0.99`. These values indicate that there is no overfitting or underfitting observed. "
      ],
      "metadata": {
        "id": "maKcx6eZnewC"
      }
    },
    {
      "cell_type": "markdown",
      "source": [
        "## Labelling the Test set\n",
        "\n",
        "As no true labels are given for the TestSet, we will label the given images after feeding it to our saved model."
      ],
      "metadata": {
        "id": "FQseE8EhjCU2"
      }
    },
    {
      "cell_type": "code",
      "source": [
        "for i in range(20):\n",
        "  image_loc = '/tmp/Problemset/TestSet/Test_{}.png'.format(i)\n",
        "\n",
        "  img = tf.keras.utils.load_img(image_loc, target_size=(img_height, img_width))\n",
        "\n",
        "  img_array = tf.keras.utils.img_to_array(img)\n",
        "  img_array = tf.expand_dims(img_array, 0) # Create a batch\n",
        "\n",
        "  predictions = model.predict(img_array, verbose = 0)\n",
        "  score = tf.nn.softmax(predictions[0])\n",
        "\n",
        "  print(\"{} -> {} with a {:.2f} percent confidence.\".format('Test_{}'.format(i),class_names[np.argmax(score)], 100 * np.max(score)))"
      ],
      "metadata": {
        "colab": {
          "base_uri": "https://localhost:8080/"
        },
        "id": "RV8JXGoQoonc",
        "outputId": "71a769e4-d541-4ba7-ceb3-af0dc0d3e0c0"
      },
      "execution_count": 18,
      "outputs": [
        {
          "output_type": "stream",
          "name": "stdout",
          "text": [
            "Test_0 -> Type2 with a 87.83 percent confidence.\n",
            "Test_1 -> Type1 with a 100.00 percent confidence.\n",
            "Test_2 -> Type1 with a 100.00 percent confidence.\n",
            "Test_3 -> Type1 with a 87.58 percent confidence.\n",
            "Test_4 -> Type1 with a 100.00 percent confidence.\n",
            "Test_5 -> Type1 with a 100.00 percent confidence.\n",
            "Test_6 -> Type2 with a 99.78 percent confidence.\n",
            "Test_7 -> Type2 with a 94.32 percent confidence.\n",
            "Test_8 -> Type2 with a 100.00 percent confidence.\n",
            "Test_9 -> Type1 with a 100.00 percent confidence.\n",
            "Test_10 -> Type1 with a 99.95 percent confidence.\n",
            "Test_11 -> Type2 with a 100.00 percent confidence.\n",
            "Test_12 -> Type2 with a 99.65 percent confidence.\n",
            "Test_13 -> Type1 with a 97.62 percent confidence.\n",
            "Test_14 -> Type1 with a 100.00 percent confidence.\n",
            "Test_15 -> Type2 with a 93.74 percent confidence.\n",
            "Test_16 -> Type2 with a 98.18 percent confidence.\n",
            "Test_17 -> Type1 with a 99.60 percent confidence.\n",
            "Test_18 -> Type1 with a 98.51 percent confidence.\n",
            "Test_19 -> Type1 with a 100.00 percent confidence.\n"
          ]
        }
      ]
    }
  ]
}